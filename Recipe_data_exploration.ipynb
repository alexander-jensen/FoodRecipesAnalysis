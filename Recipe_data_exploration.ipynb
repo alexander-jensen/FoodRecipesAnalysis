{
 "cells": [
  {
   "cell_type": "code",
   "execution_count": 53,
   "id": "8517a17c",
   "metadata": {},
   "outputs": [],
   "source": [
    "import numpy as np\n",
    "import pandas as pd\n",
    "import seaborn as sns\n",
    "#import matplotlib.pyplot as plt"
   ]
  },
  {
   "cell_type": "markdown",
   "id": "77353a6c",
   "metadata": {},
   "source": [
    "# Recipe data exploration"
   ]
  },
  {
   "cell_type": "code",
   "execution_count": 54,
   "id": "66fc6d70",
   "metadata": {},
   "outputs": [
    {
     "data": {
      "text/html": [
       "<div>\n",
       "<style scoped>\n",
       "    .dataframe tbody tr th:only-of-type {\n",
       "        vertical-align: middle;\n",
       "    }\n",
       "\n",
       "    .dataframe tbody tr th {\n",
       "        vertical-align: top;\n",
       "    }\n",
       "\n",
       "    .dataframe thead th {\n",
       "        text-align: right;\n",
       "    }\n",
       "</style>\n",
       "<table border=\"1\" class=\"dataframe\">\n",
       "  <thead>\n",
       "    <tr style=\"text-align: right;\">\n",
       "      <th></th>\n",
       "      <th>name</th>\n",
       "      <th>id</th>\n",
       "      <th>minutes</th>\n",
       "      <th>contributor_id</th>\n",
       "      <th>submitted</th>\n",
       "      <th>tags</th>\n",
       "      <th>nutrition</th>\n",
       "      <th>n_steps</th>\n",
       "      <th>steps</th>\n",
       "      <th>description</th>\n",
       "      <th>ingredients</th>\n",
       "      <th>n_ingredients</th>\n",
       "    </tr>\n",
       "  </thead>\n",
       "  <tbody>\n",
       "    <tr>\n",
       "      <th>0</th>\n",
       "      <td>arriba   baked winter squash mexican style</td>\n",
       "      <td>137739</td>\n",
       "      <td>55</td>\n",
       "      <td>47892</td>\n",
       "      <td>2005-09-16</td>\n",
       "      <td>['60-minutes-or-less', 'time-to-make', 'course...</td>\n",
       "      <td>[51.5, 0.0, 13.0, 0.0, 2.0, 0.0, 4.0]</td>\n",
       "      <td>11</td>\n",
       "      <td>['make a choice and proceed with recipe', 'dep...</td>\n",
       "      <td>autumn is my favorite time of year to cook! th...</td>\n",
       "      <td>['winter squash', 'mexican seasoning', 'mixed ...</td>\n",
       "      <td>7</td>\n",
       "    </tr>\n",
       "    <tr>\n",
       "      <th>1</th>\n",
       "      <td>a bit different  breakfast pizza</td>\n",
       "      <td>31490</td>\n",
       "      <td>30</td>\n",
       "      <td>26278</td>\n",
       "      <td>2002-06-17</td>\n",
       "      <td>['30-minutes-or-less', 'time-to-make', 'course...</td>\n",
       "      <td>[173.4, 18.0, 0.0, 17.0, 22.0, 35.0, 1.0]</td>\n",
       "      <td>9</td>\n",
       "      <td>['preheat oven to 425 degrees f', 'press dough...</td>\n",
       "      <td>this recipe calls for the crust to be prebaked...</td>\n",
       "      <td>['prepared pizza crust', 'sausage patty', 'egg...</td>\n",
       "      <td>6</td>\n",
       "    </tr>\n",
       "    <tr>\n",
       "      <th>2</th>\n",
       "      <td>all in the kitchen  chili</td>\n",
       "      <td>112140</td>\n",
       "      <td>130</td>\n",
       "      <td>196586</td>\n",
       "      <td>2005-02-25</td>\n",
       "      <td>['time-to-make', 'course', 'preparation', 'mai...</td>\n",
       "      <td>[269.8, 22.0, 32.0, 48.0, 39.0, 27.0, 5.0]</td>\n",
       "      <td>6</td>\n",
       "      <td>['brown ground beef in large pot', 'add choppe...</td>\n",
       "      <td>this modified version of 'mom's' chili was a h...</td>\n",
       "      <td>['ground beef', 'yellow onions', 'diced tomato...</td>\n",
       "      <td>13</td>\n",
       "    </tr>\n",
       "    <tr>\n",
       "      <th>3</th>\n",
       "      <td>alouette  potatoes</td>\n",
       "      <td>59389</td>\n",
       "      <td>45</td>\n",
       "      <td>68585</td>\n",
       "      <td>2003-04-14</td>\n",
       "      <td>['60-minutes-or-less', 'time-to-make', 'course...</td>\n",
       "      <td>[368.1, 17.0, 10.0, 2.0, 14.0, 8.0, 20.0]</td>\n",
       "      <td>11</td>\n",
       "      <td>['place potatoes in a large pot of lightly sal...</td>\n",
       "      <td>this is a super easy, great tasting, make ahea...</td>\n",
       "      <td>['spreadable cheese with garlic and herbs', 'n...</td>\n",
       "      <td>11</td>\n",
       "    </tr>\n",
       "    <tr>\n",
       "      <th>4</th>\n",
       "      <td>amish  tomato ketchup  for canning</td>\n",
       "      <td>44061</td>\n",
       "      <td>190</td>\n",
       "      <td>41706</td>\n",
       "      <td>2002-10-25</td>\n",
       "      <td>['weeknight', 'time-to-make', 'course', 'main-...</td>\n",
       "      <td>[352.9, 1.0, 337.0, 23.0, 3.0, 0.0, 28.0]</td>\n",
       "      <td>5</td>\n",
       "      <td>['mix all ingredients&amp; boil for 2 1 / 2 hours ...</td>\n",
       "      <td>my dh's amish mother raised him on this recipe...</td>\n",
       "      <td>['tomato juice', 'apple cider vinegar', 'sugar...</td>\n",
       "      <td>8</td>\n",
       "    </tr>\n",
       "  </tbody>\n",
       "</table>\n",
       "</div>"
      ],
      "text/plain": [
       "                                         name      id  minutes  \\\n",
       "0  arriba   baked winter squash mexican style  137739       55   \n",
       "1            a bit different  breakfast pizza   31490       30   \n",
       "2                   all in the kitchen  chili  112140      130   \n",
       "3                          alouette  potatoes   59389       45   \n",
       "4          amish  tomato ketchup  for canning   44061      190   \n",
       "\n",
       "   contributor_id   submitted  \\\n",
       "0           47892  2005-09-16   \n",
       "1           26278  2002-06-17   \n",
       "2          196586  2005-02-25   \n",
       "3           68585  2003-04-14   \n",
       "4           41706  2002-10-25   \n",
       "\n",
       "                                                tags  \\\n",
       "0  ['60-minutes-or-less', 'time-to-make', 'course...   \n",
       "1  ['30-minutes-or-less', 'time-to-make', 'course...   \n",
       "2  ['time-to-make', 'course', 'preparation', 'mai...   \n",
       "3  ['60-minutes-or-less', 'time-to-make', 'course...   \n",
       "4  ['weeknight', 'time-to-make', 'course', 'main-...   \n",
       "\n",
       "                                    nutrition  n_steps  \\\n",
       "0       [51.5, 0.0, 13.0, 0.0, 2.0, 0.0, 4.0]       11   \n",
       "1   [173.4, 18.0, 0.0, 17.0, 22.0, 35.0, 1.0]        9   \n",
       "2  [269.8, 22.0, 32.0, 48.0, 39.0, 27.0, 5.0]        6   \n",
       "3   [368.1, 17.0, 10.0, 2.0, 14.0, 8.0, 20.0]       11   \n",
       "4   [352.9, 1.0, 337.0, 23.0, 3.0, 0.0, 28.0]        5   \n",
       "\n",
       "                                               steps  \\\n",
       "0  ['make a choice and proceed with recipe', 'dep...   \n",
       "1  ['preheat oven to 425 degrees f', 'press dough...   \n",
       "2  ['brown ground beef in large pot', 'add choppe...   \n",
       "3  ['place potatoes in a large pot of lightly sal...   \n",
       "4  ['mix all ingredients& boil for 2 1 / 2 hours ...   \n",
       "\n",
       "                                         description  \\\n",
       "0  autumn is my favorite time of year to cook! th...   \n",
       "1  this recipe calls for the crust to be prebaked...   \n",
       "2  this modified version of 'mom's' chili was a h...   \n",
       "3  this is a super easy, great tasting, make ahea...   \n",
       "4  my dh's amish mother raised him on this recipe...   \n",
       "\n",
       "                                         ingredients  n_ingredients  \n",
       "0  ['winter squash', 'mexican seasoning', 'mixed ...              7  \n",
       "1  ['prepared pizza crust', 'sausage patty', 'egg...              6  \n",
       "2  ['ground beef', 'yellow onions', 'diced tomato...             13  \n",
       "3  ['spreadable cheese with garlic and herbs', 'n...             11  \n",
       "4  ['tomato juice', 'apple cider vinegar', 'sugar...              8  "
      ]
     },
     "execution_count": 54,
     "metadata": {},
     "output_type": "execute_result"
    }
   ],
   "source": [
    "recipes = pd.read_csv('data/RAW_recipes.csv')\n",
    "recipes.head()"
   ]
  },
  {
   "cell_type": "markdown",
   "id": "b496bb9b",
   "metadata": {},
   "source": [
    "Things to do:\n",
    "- Minutes analysis (done)\n",
    "- amount of recipes submitted over time\n",
    "- nutrition explosion \n",
    "    - nutrition is also as a percentage of daily value\n",
    "- n_steps visualization\n",
    "- ingredients visualization\n",
    "- steps preprocessing\n",
    "    - can we figure out what is needed in each of these (oven, toaster, masher, etc) ?"
   ]
  },
  {
   "cell_type": "markdown",
   "id": "7a0c6d4d",
   "metadata": {},
   "source": [
    "Note: nutrition takes order of (calories, fats, sugars, sodium, protein, saturated fat, carbs)"
   ]
  },
  {
   "cell_type": "markdown",
   "id": "6b8b5adb",
   "metadata": {},
   "source": [
    "## Minutes analysis\n",
    "\n",
    "We can see how many minutes a recipe takes, and see whether we can find what makes a recipe take a long time."
   ]
  },
  {
   "cell_type": "code",
   "execution_count": 55,
   "id": "285a779d",
   "metadata": {},
   "outputs": [
    {
     "data": {
      "text/plain": [
       "count    2.316370e+05\n",
       "mean     9.398546e+03\n",
       "std      4.461963e+06\n",
       "min      0.000000e+00\n",
       "25%      2.000000e+01\n",
       "50%      4.000000e+01\n",
       "75%      6.500000e+01\n",
       "max      2.147484e+09\n",
       "Name: minutes, dtype: float64"
      ]
     },
     "execution_count": 55,
     "metadata": {},
     "output_type": "execute_result"
    }
   ],
   "source": [
    "recipes.minutes.describe() # Sanity check for extreme values"
   ]
  },
  {
   "cell_type": "code",
   "execution_count": 56,
   "id": "0066f0c2",
   "metadata": {},
   "outputs": [
    {
     "data": {
      "text/html": [
       "<div>\n",
       "<style scoped>\n",
       "    .dataframe tbody tr th:only-of-type {\n",
       "        vertical-align: middle;\n",
       "    }\n",
       "\n",
       "    .dataframe tbody tr th {\n",
       "        vertical-align: top;\n",
       "    }\n",
       "\n",
       "    .dataframe thead th {\n",
       "        text-align: right;\n",
       "    }\n",
       "</style>\n",
       "<table border=\"1\" class=\"dataframe\">\n",
       "  <thead>\n",
       "    <tr style=\"text-align: right;\">\n",
       "      <th></th>\n",
       "      <th>name</th>\n",
       "      <th>id</th>\n",
       "      <th>minutes</th>\n",
       "      <th>contributor_id</th>\n",
       "      <th>submitted</th>\n",
       "      <th>tags</th>\n",
       "      <th>nutrition</th>\n",
       "      <th>n_steps</th>\n",
       "      <th>steps</th>\n",
       "      <th>description</th>\n",
       "      <th>ingredients</th>\n",
       "      <th>n_ingredients</th>\n",
       "    </tr>\n",
       "  </thead>\n",
       "  <tbody>\n",
       "    <tr>\n",
       "      <th>106963</th>\n",
       "      <td>homemade vanilla</td>\n",
       "      <td>425681</td>\n",
       "      <td>259205</td>\n",
       "      <td>28177</td>\n",
       "      <td>2010-05-16</td>\n",
       "      <td>['time-to-make', 'preparation', '5-ingredients...</td>\n",
       "      <td>[69.4, 0.0, 0.0, 0.0, 0.0, 0.0, 0.0]</td>\n",
       "      <td>9</td>\n",
       "      <td>['slice the vanilla beans length-wise and scra...</td>\n",
       "      <td>found this recipe on tammy's blog (http://www....</td>\n",
       "      <td>['vanilla beans', 'vodka']</td>\n",
       "      <td>2</td>\n",
       "    </tr>\n",
       "    <tr>\n",
       "      <th>38116</th>\n",
       "      <td>celtic druid s honey mead   meade   metheglin</td>\n",
       "      <td>216215</td>\n",
       "      <td>259260</td>\n",
       "      <td>242729</td>\n",
       "      <td>2007-03-11</td>\n",
       "      <td>['time-to-make', 'course', 'main-ingredient', ...</td>\n",
       "      <td>[531.0, 0.0, 561.0, 1.0, 1.0, 0.0, 47.0]</td>\n",
       "      <td>18</td>\n",
       "      <td>['equipement:', 'very large pan - to hold 12 p...</td>\n",
       "      <td>mead, made from fermented honey, was the earli...</td>\n",
       "      <td>['gingerroot', 'lemons, juice and rind of', 'w...</td>\n",
       "      <td>7</td>\n",
       "    </tr>\n",
       "    <tr>\n",
       "      <th>106563</th>\n",
       "      <td>homemade fruit liquers</td>\n",
       "      <td>291571</td>\n",
       "      <td>288000</td>\n",
       "      <td>553251</td>\n",
       "      <td>2008-03-12</td>\n",
       "      <td>['time-to-make', 'course', 'main-ingredient', ...</td>\n",
       "      <td>[836.2, 0.0, 333.0, 0.0, 0.0, 0.0, 27.0]</td>\n",
       "      <td>12</td>\n",
       "      <td>['rinse the fruit or berries , fruit must be c...</td>\n",
       "      <td>this should be a nice easy project for those w...</td>\n",
       "      <td>['berries', 'vodka', 'granulated sugar']</td>\n",
       "      <td>3</td>\n",
       "    </tr>\n",
       "    <tr>\n",
       "      <th>109624</th>\n",
       "      <td>how to preserve a husband</td>\n",
       "      <td>447963</td>\n",
       "      <td>1051200</td>\n",
       "      <td>576273</td>\n",
       "      <td>2011-02-01</td>\n",
       "      <td>['time-to-make', 'course', 'preparation', 'for...</td>\n",
       "      <td>[407.4, 57.0, 50.0, 1.0, 7.0, 115.0, 5.0]</td>\n",
       "      <td>9</td>\n",
       "      <td>['be careful in your selection', \"don't choose...</td>\n",
       "      <td>found this in a local wyoming cookbook \"a coll...</td>\n",
       "      <td>['cream', 'peach']</td>\n",
       "      <td>2</td>\n",
       "    </tr>\n",
       "    <tr>\n",
       "      <th>144074</th>\n",
       "      <td>no bake granola balls</td>\n",
       "      <td>261647</td>\n",
       "      <td>2147483647</td>\n",
       "      <td>464080</td>\n",
       "      <td>2007-10-26</td>\n",
       "      <td>['60-minutes-or-less', 'time-to-make', 'course...</td>\n",
       "      <td>[330.3, 23.0, 110.0, 4.0, 15.0, 24.0, 15.0]</td>\n",
       "      <td>9</td>\n",
       "      <td>['preheat the oven to 350 degrees', 'spread oa...</td>\n",
       "      <td>healthy snacks that kids (and grown ups) will ...</td>\n",
       "      <td>['rolled oats', 'unsweetened dried shredded co...</td>\n",
       "      <td>8</td>\n",
       "    </tr>\n",
       "  </tbody>\n",
       "</table>\n",
       "</div>"
      ],
      "text/plain": [
       "                                                 name      id     minutes  \\\n",
       "106963                               homemade vanilla  425681      259205   \n",
       "38116   celtic druid s honey mead   meade   metheglin  216215      259260   \n",
       "106563                         homemade fruit liquers  291571      288000   \n",
       "109624                      how to preserve a husband  447963     1051200   \n",
       "144074                          no bake granola balls  261647  2147483647   \n",
       "\n",
       "        contributor_id   submitted  \\\n",
       "106963           28177  2010-05-16   \n",
       "38116           242729  2007-03-11   \n",
       "106563          553251  2008-03-12   \n",
       "109624          576273  2011-02-01   \n",
       "144074          464080  2007-10-26   \n",
       "\n",
       "                                                     tags  \\\n",
       "106963  ['time-to-make', 'preparation', '5-ingredients...   \n",
       "38116   ['time-to-make', 'course', 'main-ingredient', ...   \n",
       "106563  ['time-to-make', 'course', 'main-ingredient', ...   \n",
       "109624  ['time-to-make', 'course', 'preparation', 'for...   \n",
       "144074  ['60-minutes-or-less', 'time-to-make', 'course...   \n",
       "\n",
       "                                          nutrition  n_steps  \\\n",
       "106963         [69.4, 0.0, 0.0, 0.0, 0.0, 0.0, 0.0]        9   \n",
       "38116      [531.0, 0.0, 561.0, 1.0, 1.0, 0.0, 47.0]       18   \n",
       "106563     [836.2, 0.0, 333.0, 0.0, 0.0, 0.0, 27.0]       12   \n",
       "109624    [407.4, 57.0, 50.0, 1.0, 7.0, 115.0, 5.0]        9   \n",
       "144074  [330.3, 23.0, 110.0, 4.0, 15.0, 24.0, 15.0]        9   \n",
       "\n",
       "                                                    steps  \\\n",
       "106963  ['slice the vanilla beans length-wise and scra...   \n",
       "38116   ['equipement:', 'very large pan - to hold 12 p...   \n",
       "106563  ['rinse the fruit or berries , fruit must be c...   \n",
       "109624  ['be careful in your selection', \"don't choose...   \n",
       "144074  ['preheat the oven to 350 degrees', 'spread oa...   \n",
       "\n",
       "                                              description  \\\n",
       "106963  found this recipe on tammy's blog (http://www....   \n",
       "38116   mead, made from fermented honey, was the earli...   \n",
       "106563  this should be a nice easy project for those w...   \n",
       "109624  found this in a local wyoming cookbook \"a coll...   \n",
       "144074  healthy snacks that kids (and grown ups) will ...   \n",
       "\n",
       "                                              ingredients  n_ingredients  \n",
       "106963                         ['vanilla beans', 'vodka']              2  \n",
       "38116   ['gingerroot', 'lemons, juice and rind of', 'w...              7  \n",
       "106563           ['berries', 'vodka', 'granulated sugar']              3  \n",
       "109624                                 ['cream', 'peach']              2  \n",
       "144074  ['rolled oats', 'unsweetened dried shredded co...              8  "
      ]
     },
     "execution_count": 56,
     "metadata": {},
     "output_type": "execute_result"
    }
   ],
   "source": [
    "recipes.sort_values('minutes').iloc[-5:]"
   ]
  },
  {
   "cell_type": "markdown",
   "id": "b4624b6a",
   "metadata": {},
   "source": [
    "We obviously see that the granola bars don't take the int max value for minutes, so we will reduce this to 60 minutes as suggested by the tags."
   ]
  },
  {
   "cell_type": "code",
   "execution_count": 67,
   "id": "93d16e97",
   "metadata": {},
   "outputs": [],
   "source": [
    "recipes.loc[144074, 'minutes'] = 60"
   ]
  },
  {
   "cell_type": "code",
   "execution_count": 68,
   "id": "bbf7a537",
   "metadata": {},
   "outputs": [],
   "source": [
    "# Convert minutes to 1, as a recipe cannot technically have \"0\" minutes (and also works well for log transforms)\n",
    "recipes.loc[recipes.minutes == 0, 'minutes'] = 1"
   ]
  },
  {
   "cell_type": "code",
   "execution_count": 75,
   "id": "4a33fd9b",
   "metadata": {},
   "outputs": [
    {
     "data": {
      "text/plain": [
       "Text(0.5, 1.0, 'Minutes (logged) histogram counts per recipe')"
      ]
     },
     "execution_count": 75,
     "metadata": {},
     "output_type": "execute_result"
    },
    {
     "data": {
      "image/png": "[encoded data removed]",
      "text/plain": [
       "<Figure size 640x480 with 1 Axes>"
      ]
     },
     "metadata": {},
     "output_type": "display_data"
    }
   ],
   "source": [
    "ax = sns.histplot(recipes.minutes.apply(np.log10), bins = 40);\n",
    "ax.set_xlabel('Minutes (log 10)')\n",
    "ax.set_title('Minutes (logged) histogram counts per recipe')"
   ]
  },
  {
   "cell_type": "markdown",
   "id": "bda62382",
   "metadata": {},
   "source": [
    "From this, we see that there is some average of recipes to be less than 100 minutes or so. We also cannot assume a normal distribution given the apparent skew of the histogram. We can however bootstrap in order to gain estimates from median recipe times."
   ]
  },
  {
   "cell_type": "code",
   "execution_count": 72,
   "id": "061e0dff",
   "metadata": {},
   "outputs": [
    {
     "data": {
      "text/plain": [
       "count    2.316380e+05\n",
       "mean     1.276499e+02\n",
       "std      2.946331e+03\n",
       "min      1.000000e+00\n",
       "25%      2.000000e+01\n",
       "50%      4.000000e+01\n",
       "75%      6.500000e+01\n",
       "max      1.051200e+06\n",
       "Name: minutes, dtype: float64"
      ]
     },
     "execution_count": 72,
     "metadata": {},
     "output_type": "execute_result"
    }
   ],
   "source": [
    "recipes.minutes.describe()"
   ]
  },
  {
   "cell_type": "code",
   "execution_count": 96,
   "id": "c91b58c3",
   "metadata": {},
   "outputs": [],
   "source": [
    "n_trials, sample_size = 1000, 10000\n",
    "boot_med = np.zeros(n_trials)\n",
    "for i in range(n_trials):\n",
    "    boot_med[i] = recipes.sample(sample_size).minutes.median()"
   ]
  },
  {
   "cell_type": "code",
   "execution_count": 104,
   "id": "530370cf",
   "metadata": {},
   "outputs": [
    {
     "name": "stdout",
     "output_type": "stream",
     "text": [
      "38.541\n"
     ]
    },
    {
     "data": {
      "image/png": "[encoded data removed]",
      "text/plain": [
       "<Figure size 640x480 with 1 Axes>"
      ]
     },
     "metadata": {},
     "output_type": "display_data"
    }
   ],
   "source": [
    "ax = sns.histplot(boot_med)\n",
    "ax.set_title('Median recipe time required (bootstrapped)')\n",
    "ax.set_xlabel('Minutes');\n",
    "print(np.mean(boot_med))"
   ]
  },
  {
   "cell_type": "markdown",
   "id": "181496d6",
   "metadata": {},
   "source": [
    "We see that about 50% of the recipes do take less than 40 minutes, although this is not the average."
   ]
  },
  {
   "cell_type": "markdown",
   "id": "f825369f",
   "metadata": {},
   "source": [
    "# Recipes submitted over time\n",
    "Firstly, we should convert submitted to a datetime format:"
   ]
  },
  {
   "cell_type": "code",
   "execution_count": 108,
   "id": "2779f454",
   "metadata": {},
   "outputs": [],
   "source": [
    "recipes.submitted = pd.to_datetime(recipes.submitted)"
   ]
  },
  {
   "cell_type": "code",
   "execution_count": 113,
   "id": "171c1797",
   "metadata": {},
   "outputs": [
    {
     "data": {
      "text/plain": [
       "0        2005-09-16\n",
       "1        2002-06-17\n",
       "2        2005-02-25\n",
       "3        2003-04-14\n",
       "4        2002-10-25\n",
       "            ...    \n",
       "231632   2012-08-29\n",
       "231633   2013-01-09\n",
       "231634   2008-06-07\n",
       "231635   2008-04-15\n",
       "231636   2008-04-15\n",
       "Name: submitted, Length: 231637, dtype: datetime64[ns]"
      ]
     },
     "execution_count": 113,
     "metadata": {},
     "output_type": "execute_result"
    }
   ],
   "source": [
    "recipes.submitted"
   ]
  },
  {
   "cell_type": "code",
   "execution_count": 118,
   "id": "4f8eada5",
   "metadata": {},
   "outputs": [],
   "source": [
    "sns.histplot?"
   ]
  },
  {
   "cell_type": "code",
   "execution_count": 122,
   "id": "80aa158a",
   "metadata": {},
   "outputs": [
    {
     "data": {
      "text/plain": [
       "array([2005, 2002, 2003, 1999, 2001, 2004, 2008, 2007, 2011, 2006, 2012,\n",
       "       2013, 2015, 2010, 2009, 2014, 2018, 2017, 2000, 2016], dtype=int64)"
      ]
     },
     "execution_count": 122,
     "metadata": {},
     "output_type": "execute_result"
    }
   ],
   "source": [
    "recipes.submitted.dt.year.unique()"
   ]
  },
  {
   "cell_type": "code",
   "execution_count": 134,
   "id": "53013b76",
   "metadata": {},
   "outputs": [],
   "source": [
    "year_stats = recipes.submitted.dt.year.describe()\n",
    "year_bins = np.arange(year_stats['min'], year_stats['max'] + 1)\n",
    "#year_bins = list(zip(year_bins, year_bins + .99))\n",
    "#year_bins"
   ]
  },
  {
   "cell_type": "code",
   "execution_count": 142,
   "id": "acf41b51",
   "metadata": {},
   "outputs": [
    {
     "data": {
      "text/plain": [
       "Text(0, 0.5, 'Recipes')"
      ]
     },
     "execution_count": 142,
     "metadata": {},
     "output_type": "execute_result"
    },
    {
     "data": {
      "image/png": "[encoded data removed]",
      "text/plain": [
       "<Figure size 640x480 with 1 Axes>"
      ]
     },
     "metadata": {},
     "output_type": "display_data"
    }
   ],
   "source": [
    "ax = sns.histplot(recipes.submitted.dt.year, bins=year_bins)\n",
    "ax.set_xticks(year_bins[::2]);\n",
    "ax.set_title('Recipes submitted in each year')\n",
    "ax.set_xlabel('Year')\n",
    "ax.set_ylabel('Recipes')"
   ]
  },
  {
   "cell_type": "markdown",
   "id": "76c75870",
   "metadata": {},
   "source": [
    "We see that the data is not up to date, but does capture about 19 years of recipes uploaded to Food.com. We also look at when recipes are usually uploaded:"
   ]
  },
  {
   "cell_type": "code",
   "execution_count": 151,
   "id": "5435513c",
   "metadata": {},
   "outputs": [
    {
     "data": {
      "image/png": "[encoded data removed]",
      "text/plain": [
       "<Figure size 640x480 with 1 Axes>"
      ]
     },
     "metadata": {},
     "output_type": "display_data"
    }
   ],
   "source": [
    "ax = sns.histplot(recipes.submitted.dt.month)\n",
    "ax.set_xlabel('Month')\n",
    "ax.set_xticks(range(1,13))\n",
    "ax.set_title('Recipes submitted by month');"
   ]
  },
  {
   "cell_type": "markdown",
   "id": "d1545917",
   "metadata": {},
   "source": [
    "We see that there is little to no variance in the recipes submitted dependent on month, but we are skeptical that this is the case. We can test this with a hypothesis test:\n",
    " - H0: The chance for a recipe to be published in a month is the same for every month ($P_1 = P_2 = \\ldots = P_{12} = \\frac{1}{12}$) ($p_{val} > \\alpha$)\n",
    " - H1: The chance for a recipe to be published in the month is not the same for every month. ($p_{val} \\leq  \\alpha$)\n",
    " - P_value is $\\alpha = .5$\n",
    "\n",
    "We can test this using samples and [total variation distance](https://www.educative.io/answers/what-is-total-variation-tv-distance)."
   ]
  },
  {
   "cell_type": "code",
   "execution_count": 225,
   "id": "94c77cef",
   "metadata": {},
   "outputs": [
    {
     "data": {
      "text/plain": [
       "1     0.094355\n",
       "5     0.093612\n",
       "3     0.088807\n",
       "4     0.087145\n",
       "10    0.082590\n",
       "8     0.081446\n",
       "11    0.081036\n",
       "6     0.080842\n",
       "9     0.080432\n",
       "7     0.080229\n",
       "2     0.080022\n",
       "12    0.069484\n",
       "Name: submitted, dtype: float64"
      ]
     },
     "execution_count": 225,
     "metadata": {},
     "output_type": "execute_result"
    }
   ],
   "source": [
    "observed = recipes.submitted.dt.month.value_counts(normalize=True)\n",
    "observed # What we observe in our sample"
   ]
  },
  {
   "cell_type": "code",
   "execution_count": 226,
   "id": "a59ea88d",
   "metadata": {},
   "outputs": [
    {
     "data": {
      "text/plain": [
       "1     0.083333\n",
       "2     0.083333\n",
       "3     0.083333\n",
       "4     0.083333\n",
       "5     0.083333\n",
       "6     0.083333\n",
       "7     0.083333\n",
       "8     0.083333\n",
       "9     0.083333\n",
       "10    0.083333\n",
       "11    0.083333\n",
       "12    0.083333\n",
       "dtype: float64"
      ]
     },
     "execution_count": 226,
     "metadata": {},
     "output_type": "execute_result"
    }
   ],
   "source": [
    "expected = pd.Series(index=range(1,13), data=(1 / 12))\n",
    "expected # What we expect the sample to be"
   ]
  },
  {
   "cell_type": "code",
   "execution_count": 228,
   "id": "c235793e",
   "metadata": {},
   "outputs": [
    {
     "data": {
      "text/plain": [
       "0.030585211631417544"
      ]
     },
     "execution_count": 228,
     "metadata": {},
     "output_type": "execute_result"
    }
   ],
   "source": [
    "observed_val = ((observed - expected).abs() / 2).sum()\n",
    "observed_val # Observed TVD (our test statistic)"
   ]
  },
  {
   "cell_type": "code",
   "execution_count": 231,
   "id": "6781bd2f",
   "metadata": {},
   "outputs": [
    {
     "data": {
      "text/plain": [
       "array([0.00197112, 0.0027043 , 0.00222942, 0.00358535, 0.0027133 ,\n",
       "       0.00231612, 0.00269171, 0.00250967, 0.00244204, 0.00289857])"
      ]
     },
     "execution_count": 231,
     "metadata": {},
     "output_type": "execute_result"
    }
   ],
   "source": [
    "n_samples = recipes.shape[0]\n",
    "samples = np.random.multinomial(n_samples, [1/12]*12, size=10000) / n_samples\n",
    "tvd_samples = np.sum(np.abs(samples - np.array(expected)) / 2, axis=1)\n",
    "tvd_samples[:10] # TVD Distribution"
   ]
  },
  {
   "cell_type": "code",
   "execution_count": 232,
   "id": "1e3e410c",
   "metadata": {},
   "outputs": [
    {
     "data": {
      "text/plain": [
       "0.0"
      ]
     },
     "execution_count": 232,
     "metadata": {},
     "output_type": "execute_result"
    }
   ],
   "source": [
    "# P_value computation\n",
    "p_val = np.mean(tvd_samples > observed_val)\n",
    "p_val"
   ]
  },
  {
   "cell_type": "markdown",
   "id": "ba830c53",
   "metadata": {},
   "source": [
    "We see that not a single sample had a higher TVD than our observed value, and we get an extremely low p_value. By this result, we believe that it is not likely that every month has the same chance for a recipe to be published. \n",
    "\n",
    "In a real-life application, we may believe that the amount published can decrease or increase on certain months, and thus optimize how many servers can handle post and get requests, eikther decreasing the server costs or electricity costs."
   ]
  },
  {
   "cell_type": "markdown",
   "id": "961aaa97",
   "metadata": {},
   "source": [
    "## Nutrition explosion\n",
    "\n",
    "The nutrition column is very dirty and can be expanded and cleaned up a little bit."
   ]
  },
  {
   "cell_type": "code",
   "execution_count": null,
   "id": "a3c16b72",
   "metadata": {},
   "outputs": [],
   "source": []
  }
 ],
 "metadata": {
  "kernelspec": {
   "display_name": "Python 3 (ipykernel)",
   "language": "python",
   "name": "python3"
  },
  "language_info": {
   "codemirror_mode": {
    "name": "ipython",
    "version": 3
   },
   "file_extension": ".py",
   "mimetype": "text/x-python",
   "name": "python",
   "nbconvert_exporter": "python",
   "pygments_lexer": "ipython3",
   "version": "3.9.13"
  }
 },
 "nbformat": 4,
 "nbformat_minor": 5
}
